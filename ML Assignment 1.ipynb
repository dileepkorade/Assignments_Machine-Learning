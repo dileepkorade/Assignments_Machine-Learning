{
 "cells": [
  {
   "cell_type": "markdown",
   "id": "b52737ef",
   "metadata": {},
   "source": [
    "# ML Assignment 1: Implement a logistic regression and KNN model on iris dataset. \n",
    "# Find out the test score for each model. (Create train test split using random_state=42) \n",
    "# Dataset Link: https://www.kaggle.com/tanyaganesan/iris-dataset-logistic-regression Upload pdf of code file as a submission."
   ]
  },
  {
   "cell_type": "code",
   "execution_count": 1,
   "id": "622873b0",
   "metadata": {},
   "outputs": [],
   "source": [
    "import pandas as pd\n",
    "import numpy as np\n",
    "import matplotlib.pyplot as plt"
   ]
  },
  {
   "cell_type": "code",
   "execution_count": 2,
   "id": "091b88e3",
   "metadata": {},
   "outputs": [],
   "source": [
    "df = pd.read_csv('../DataSets/iris.csv')"
   ]
  },
  {
   "cell_type": "code",
   "execution_count": 3,
   "id": "88ec39aa",
   "metadata": {},
   "outputs": [
    {
     "data": {
      "text/html": [
       "<div>\n",
       "<style scoped>\n",
       "    .dataframe tbody tr th:only-of-type {\n",
       "        vertical-align: middle;\n",
       "    }\n",
       "\n",
       "    .dataframe tbody tr th {\n",
       "        vertical-align: top;\n",
       "    }\n",
       "\n",
       "    .dataframe thead th {\n",
       "        text-align: right;\n",
       "    }\n",
       "</style>\n",
       "<table border=\"1\" class=\"dataframe\">\n",
       "  <thead>\n",
       "    <tr style=\"text-align: right;\">\n",
       "      <th></th>\n",
       "      <th>x0</th>\n",
       "      <th>x1</th>\n",
       "      <th>x2</th>\n",
       "      <th>x3</th>\n",
       "      <th>x4</th>\n",
       "      <th>type</th>\n",
       "    </tr>\n",
       "  </thead>\n",
       "  <tbody>\n",
       "    <tr>\n",
       "      <th>0</th>\n",
       "      <td>1</td>\n",
       "      <td>5.1</td>\n",
       "      <td>3.5</td>\n",
       "      <td>1.4</td>\n",
       "      <td>0.2</td>\n",
       "      <td>Iris-setosa</td>\n",
       "    </tr>\n",
       "    <tr>\n",
       "      <th>1</th>\n",
       "      <td>1</td>\n",
       "      <td>4.9</td>\n",
       "      <td>3.0</td>\n",
       "      <td>1.4</td>\n",
       "      <td>0.2</td>\n",
       "      <td>Iris-setosa</td>\n",
       "    </tr>\n",
       "    <tr>\n",
       "      <th>2</th>\n",
       "      <td>1</td>\n",
       "      <td>4.7</td>\n",
       "      <td>3.2</td>\n",
       "      <td>1.3</td>\n",
       "      <td>0.2</td>\n",
       "      <td>Iris-setosa</td>\n",
       "    </tr>\n",
       "    <tr>\n",
       "      <th>3</th>\n",
       "      <td>1</td>\n",
       "      <td>4.6</td>\n",
       "      <td>3.1</td>\n",
       "      <td>1.5</td>\n",
       "      <td>0.2</td>\n",
       "      <td>Iris-setosa</td>\n",
       "    </tr>\n",
       "    <tr>\n",
       "      <th>4</th>\n",
       "      <td>1</td>\n",
       "      <td>5.0</td>\n",
       "      <td>3.6</td>\n",
       "      <td>1.4</td>\n",
       "      <td>0.2</td>\n",
       "      <td>Iris-setosa</td>\n",
       "    </tr>\n",
       "  </tbody>\n",
       "</table>\n",
       "</div>"
      ],
      "text/plain": [
       "   x0   x1   x2   x3   x4         type\n",
       "0   1  5.1  3.5  1.4  0.2  Iris-setosa\n",
       "1   1  4.9  3.0  1.4  0.2  Iris-setosa\n",
       "2   1  4.7  3.2  1.3  0.2  Iris-setosa\n",
       "3   1  4.6  3.1  1.5  0.2  Iris-setosa\n",
       "4   1  5.0  3.6  1.4  0.2  Iris-setosa"
      ]
     },
     "execution_count": 3,
     "metadata": {},
     "output_type": "execute_result"
    }
   ],
   "source": [
    "df.head()"
   ]
  },
  {
   "cell_type": "code",
   "execution_count": 4,
   "id": "0238e217",
   "metadata": {},
   "outputs": [
    {
     "name": "stdout",
     "output_type": "stream",
     "text": [
      "<class 'pandas.core.frame.DataFrame'>\n",
      "RangeIndex: 150 entries, 0 to 149\n",
      "Data columns (total 6 columns):\n",
      " #   Column  Non-Null Count  Dtype  \n",
      "---  ------  --------------  -----  \n",
      " 0   x0      150 non-null    int64  \n",
      " 1   x1      150 non-null    float64\n",
      " 2   x2      150 non-null    float64\n",
      " 3   x3      150 non-null    float64\n",
      " 4   x4      150 non-null    float64\n",
      " 5   type    150 non-null    object \n",
      "dtypes: float64(4), int64(1), object(1)\n",
      "memory usage: 7.2+ KB\n"
     ]
    }
   ],
   "source": [
    "df.info()"
   ]
  },
  {
   "cell_type": "code",
   "execution_count": 5,
   "id": "1a048d8d",
   "metadata": {},
   "outputs": [],
   "source": [
    "X = df[['x0', 'x1', 'x2', 'x3', 'x4']]\n",
    "y = df['type']"
   ]
  },
  {
   "cell_type": "code",
   "execution_count": 6,
   "id": "64618d88",
   "metadata": {},
   "outputs": [],
   "source": [
    "from sklearn.model_selection import train_test_split"
   ]
  },
  {
   "cell_type": "code",
   "execution_count": 7,
   "id": "cc37a54b",
   "metadata": {},
   "outputs": [],
   "source": [
    "X_train, X_test, y_train, y_test = train_test_split(X,y, test_size=0.2, random_state=42)"
   ]
  },
  {
   "cell_type": "code",
   "execution_count": 8,
   "id": "98160f82",
   "metadata": {},
   "outputs": [
    {
     "data": {
      "text/plain": [
       "((120, 5), (30, 5), (120,), (30,))"
      ]
     },
     "execution_count": 8,
     "metadata": {},
     "output_type": "execute_result"
    }
   ],
   "source": [
    "X_train.shape, X_test.shape, y_train.shape, y_test.shape"
   ]
  },
  {
   "cell_type": "code",
   "execution_count": 9,
   "id": "ee5e47ff",
   "metadata": {},
   "outputs": [],
   "source": [
    "from sklearn.preprocessing import MinMaxScaler"
   ]
  },
  {
   "cell_type": "code",
   "execution_count": 10,
   "id": "aa4d6058",
   "metadata": {},
   "outputs": [],
   "source": [
    "scalar = MinMaxScaler()"
   ]
  },
  {
   "cell_type": "code",
   "execution_count": 11,
   "id": "a7240f4c",
   "metadata": {},
   "outputs": [
    {
     "data": {
      "text/plain": [
       "MinMaxScaler()"
      ]
     },
     "execution_count": 11,
     "metadata": {},
     "output_type": "execute_result"
    }
   ],
   "source": [
    "scalar.fit(X_train)"
   ]
  },
  {
   "cell_type": "code",
   "execution_count": 12,
   "id": "315b2906",
   "metadata": {},
   "outputs": [
    {
     "data": {
      "text/plain": [
       "array([1. , 7.7, 4.4, 6.7, 2.5])"
      ]
     },
     "execution_count": 12,
     "metadata": {},
     "output_type": "execute_result"
    }
   ],
   "source": [
    "scalar.data_max_"
   ]
  },
  {
   "cell_type": "code",
   "execution_count": 13,
   "id": "5e94260c",
   "metadata": {},
   "outputs": [
    {
     "data": {
      "text/plain": [
       "array([1. , 4.3, 2. , 1. , 0.1])"
      ]
     },
     "execution_count": 13,
     "metadata": {},
     "output_type": "execute_result"
    }
   ],
   "source": [
    "scalar.data_min_"
   ]
  },
  {
   "cell_type": "code",
   "execution_count": 14,
   "id": "03fc3974",
   "metadata": {},
   "outputs": [],
   "source": [
    "X_train_scaled = scalar.transform(X_train)\n",
    "X_test_scaled = scalar.transform(X_test)"
   ]
  },
  {
   "cell_type": "markdown",
   "id": "177ceff2",
   "metadata": {},
   "source": [
    "# 1. Logistic Regression"
   ]
  },
  {
   "cell_type": "code",
   "execution_count": 15,
   "id": "b464ec34",
   "metadata": {},
   "outputs": [],
   "source": [
    "from sklearn.linear_model import LogisticRegression"
   ]
  },
  {
   "cell_type": "code",
   "execution_count": 16,
   "id": "2892cadb",
   "metadata": {},
   "outputs": [],
   "source": [
    "model = LogisticRegression()"
   ]
  },
  {
   "cell_type": "code",
   "execution_count": 17,
   "id": "2e2f4027",
   "metadata": {},
   "outputs": [
    {
     "data": {
      "text/plain": [
       "LogisticRegression()"
      ]
     },
     "execution_count": 17,
     "metadata": {},
     "output_type": "execute_result"
    }
   ],
   "source": [
    "model.fit(X_train_scaled, y_train)"
   ]
  },
  {
   "cell_type": "code",
   "execution_count": 18,
   "id": "fbad90b7",
   "metadata": {
    "scrolled": true
   },
   "outputs": [
    {
     "data": {
      "text/plain": [
       "(0.925, 0.9666666666666667)"
      ]
     },
     "execution_count": 18,
     "metadata": {},
     "output_type": "execute_result"
    }
   ],
   "source": [
    "model.score(X_train_scaled, y_train), model.score(X_test_scaled, y_test)"
   ]
  },
  {
   "cell_type": "markdown",
   "id": "91cf0c6d",
   "metadata": {},
   "source": [
    "# code for client to test model"
   ]
  },
  {
   "cell_type": "code",
   "execution_count": 19,
   "id": "42b38860",
   "metadata": {},
   "outputs": [],
   "source": [
    "q0 = [[1, 5.2, 4, 5, 1.5]]"
   ]
  },
  {
   "cell_type": "code",
   "execution_count": 20,
   "id": "487cdaae",
   "metadata": {},
   "outputs": [],
   "source": [
    "q0_scaled = scalar.transform(q0)"
   ]
  },
  {
   "cell_type": "code",
   "execution_count": 21,
   "id": "27f7e81c",
   "metadata": {},
   "outputs": [
    {
     "data": {
      "text/plain": [
       "array(['Iris-virginica'], dtype=object)"
      ]
     },
     "execution_count": 21,
     "metadata": {},
     "output_type": "execute_result"
    }
   ],
   "source": [
    "model.predict(q0_scaled)"
   ]
  },
  {
   "cell_type": "code",
   "execution_count": 22,
   "id": "ac461f56",
   "metadata": {},
   "outputs": [],
   "source": [
    "def get_predict(q0):\n",
    "    q0_scaled = scalar.transform(q0)\n",
    "    yp = model.predict(q0_scaled)\n",
    "    return yp"
   ]
  },
  {
   "cell_type": "code",
   "execution_count": 23,
   "id": "0049d53b",
   "metadata": {},
   "outputs": [
    {
     "data": {
      "text/plain": [
       "array(['Iris-virginica', 'Iris-versicolor', 'Iris-setosa',\n",
       "       'Iris-virginica'], dtype=object)"
      ]
     },
     "execution_count": 23,
     "metadata": {},
     "output_type": "execute_result"
    }
   ],
   "source": [
    "q1 = np.array([[1, 5.2, 4, 5, 1.5], [2, 2, 2, 2, 2], [1, 1, 1, 1, 1], [3, 3, 3, 3, 3]])\n",
    "\n",
    "get_predict(q1)"
   ]
  },
  {
   "cell_type": "code",
   "execution_count": 24,
   "id": "71a0c004",
   "metadata": {},
   "outputs": [
    {
     "data": {
      "text/plain": [
       "<matplotlib.collections.PathCollection at 0x245704459a0>"
      ]
     },
     "execution_count": 24,
     "metadata": {},
     "output_type": "execute_result"
    },
    {
     "data": {
      "image/png": "[encoded data removed]",
      "text/plain": [
       "<Figure size 432x288 with 1 Axes>"
      ]
     },
     "metadata": {
      "needs_background": "light"
     },
     "output_type": "display_data"
    }
   ],
   "source": [
    "class_0 = X_train_scaled[y_train=='Iris-setosa']\n",
    "class_1 = X_train_scaled[y_train=='Iris-versicolor']\n",
    "\n",
    "plt.scatter(class_0[:, 0], class_0[:, 1], c='red')\n",
    "plt.scatter(class_1[:, 0], class_1[:, 1], c ='blue')\n",
    "\n",
    "# wrong graph plot"
   ]
  },
  {
   "cell_type": "code",
   "execution_count": 25,
   "id": "0585e183",
   "metadata": {},
   "outputs": [],
   "source": [
    "# Graph is not getting proper, it may be because of y = df['type'] has more than 2 classes"
   ]
  },
  {
   "cell_type": "code",
   "execution_count": 26,
   "id": "06d819a9",
   "metadata": {},
   "outputs": [
    {
     "data": {
      "text/plain": [
       "<matplotlib.collections.PathCollection at 0x24570532be0>"
      ]
     },
     "execution_count": 26,
     "metadata": {},
     "output_type": "execute_result"
    },
    {
     "data": {
      "image/png": "[encoded data removed]",
      "text/plain": [
       "<Figure size 432x288 with 1 Axes>"
      ]
     },
     "metadata": {
      "needs_background": "light"
     },
     "output_type": "display_data"
    }
   ],
   "source": [
    "class_0 = X_test_scaled[y_test=='Iris-setosa']\n",
    "class_1 = X_test_scaled[y_test=='Iris-versicolor']\n",
    "\n",
    "plt.scatter(class_0[:, 0], class_0[:, 1], c='red')\n",
    "plt.scatter(class_1[:, 0], class_1[:, 1], c ='blue')\n",
    "\n",
    "# wrong graph plot"
   ]
  },
  {
   "cell_type": "markdown",
   "id": "96aac5f6",
   "metadata": {},
   "source": [
    "# 2. KNN model"
   ]
  },
  {
   "cell_type": "code",
   "execution_count": 27,
   "id": "90a21c37",
   "metadata": {},
   "outputs": [],
   "source": [
    "from sklearn.neighbors import KNeighborsClassifier"
   ]
  },
  {
   "cell_type": "code",
   "execution_count": 28,
   "id": "53741c2b",
   "metadata": {},
   "outputs": [],
   "source": [
    "model_1 = KNeighborsClassifier(n_neighbors=13)"
   ]
  },
  {
   "cell_type": "code",
   "execution_count": 29,
   "id": "405d43f0",
   "metadata": {},
   "outputs": [
    {
     "data": {
      "text/plain": [
       "KNeighborsClassifier(n_neighbors=13)"
      ]
     },
     "execution_count": 29,
     "metadata": {},
     "output_type": "execute_result"
    }
   ],
   "source": [
    "model_1.fit(X_train_scaled, y_train)"
   ]
  },
  {
   "cell_type": "code",
   "execution_count": 30,
   "id": "a7e3a78c",
   "metadata": {},
   "outputs": [
    {
     "data": {
      "text/plain": [
       "(0.9666666666666667, 1.0)"
      ]
     },
     "execution_count": 30,
     "metadata": {},
     "output_type": "execute_result"
    }
   ],
   "source": [
    "model_1.score(X_train_scaled, y_train), model_1.score(X_test_scaled, y_test)"
   ]
  },
  {
   "cell_type": "markdown",
   "id": "461b984b",
   "metadata": {},
   "source": [
    "# code for client to test model"
   ]
  },
  {
   "cell_type": "code",
   "execution_count": 31,
   "id": "58e18edb",
   "metadata": {},
   "outputs": [],
   "source": [
    "q0 = [[1, 5.2, 4, 5, 1.5]]"
   ]
  },
  {
   "cell_type": "code",
   "execution_count": 32,
   "id": "580cee13",
   "metadata": {},
   "outputs": [],
   "source": [
    "q0_scaled = scalar.transform(q0)"
   ]
  },
  {
   "cell_type": "code",
   "execution_count": 33,
   "id": "ce9e43a9",
   "metadata": {},
   "outputs": [
    {
     "data": {
      "text/plain": [
       "array(['Iris-virginica'], dtype=object)"
      ]
     },
     "execution_count": 33,
     "metadata": {},
     "output_type": "execute_result"
    }
   ],
   "source": [
    "model.predict(q0_scaled)"
   ]
  },
  {
   "cell_type": "code",
   "execution_count": 34,
   "id": "9a89dacc",
   "metadata": {},
   "outputs": [],
   "source": [
    "def get_predict(q0):\n",
    "    q0_scaled = scalar.transform(q0)\n",
    "    yp = model.predict(q0_scaled)\n",
    "    return yp"
   ]
  },
  {
   "cell_type": "code",
   "execution_count": 35,
   "id": "c4e0e060",
   "metadata": {},
   "outputs": [
    {
     "data": {
      "text/plain": [
       "array(['Iris-virginica', 'Iris-versicolor', 'Iris-setosa',\n",
       "       'Iris-virginica'], dtype=object)"
      ]
     },
     "execution_count": 35,
     "metadata": {},
     "output_type": "execute_result"
    }
   ],
   "source": [
    "q1 = np.array([[1, 5.2, 4, 5, 1.5], [2, 2, 2, 2, 2], [1, 1, 1, 1, 1], [3, 3, 3, 3, 3]])\n",
    "\n",
    "get_predict(q1)"
   ]
  },
  {
   "cell_type": "code",
   "execution_count": 36,
   "id": "780a5143",
   "metadata": {},
   "outputs": [
    {
     "data": {
      "text/plain": [
       "array(['Iris-virginica'], dtype=object)"
      ]
     },
     "execution_count": 36,
     "metadata": {},
     "output_type": "execute_result"
    }
   ],
   "source": [
    "q1 = [[1, 5.2, 4, 5, 1.5]]\n",
    "\n",
    "get_predict(q1)"
   ]
  },
  {
   "cell_type": "code",
   "execution_count": null,
   "id": "69ae1ca9",
   "metadata": {},
   "outputs": [],
   "source": []
  }
 ],
 "metadata": {
  "kernelspec": {
   "display_name": "Python 3",
   "language": "python",
   "name": "python3"
  },
  "language_info": {
   "codemirror_mode": {
    "name": "ipython",
    "version": 3
   },
   "file_extension": ".py",
   "mimetype": "text/x-python",
   "name": "python",
   "nbconvert_exporter": "python",
   "pygments_lexer": "ipython3",
   "version": "3.8.8"
  }
 },
 "nbformat": 4,
 "nbformat_minor": 5
}
